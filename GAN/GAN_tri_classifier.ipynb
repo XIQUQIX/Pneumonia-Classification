{
 "cells": [
  {
   "cell_type": "markdown",
   "metadata": {},
   "source": [
    "## GAN (chest_xray)"
   ]
  },
  {
   "cell_type": "code",
   "execution_count": 1,
   "metadata": {},
   "outputs": [],
   "source": [
    "import os\n",
    "import random\n",
    "import torch\n",
    "from torch import nn, optim\n",
    "from torch.utils.data import DataLoader, Dataset\n",
    "from torchvision import transforms\n",
    "from PIL import Image"
   ]
  },
  {
   "cell_type": "markdown",
   "metadata": {},
   "source": [
    "### Data preparation"
   ]
  },
  {
   "cell_type": "code",
   "execution_count": null,
   "metadata": {},
   "outputs": [],
   "source": [
    "class PneumoniaDataset(Dataset):\n",
    "    def __init__(self, root_dir, transform=None):\n",
    "        self.image_paths = []\n",
    "        self.labels = []\n",
    "        self.transform = transform\n",
    "\n",
    "        # Load pneumonia data\n",
    "        pneumonia_dir = os.path.join(root_dir, \"pneumonia\")\n",
    "        for img_name in os.listdir(pneumonia_dir):\n",
    "            label = 0 if \"bacteria\" in img_name else 1\n",
    "            self.image_paths.append(os.path.join(pneumonia_dir, img_name))\n",
    "            self.labels.append(label)\n",
    "\n",
    "        # Load normal data\n",
    "        normal_dir = os.path.join(root_dir, \"normal\")\n",
    "        for img_name in os.listdir(normal_dir):\n",
    "            self.image_paths.append(os.path.join(normal_dir, img_name))\n",
    "            self.labels.append(2)  # Normal\n",
    "\n",
    "    def __len__(self):\n",
    "        return len(self.image_paths)\n",
    "\n",
    "    def __getitem__(self, idx):\n",
    "        img_path = self.image_paths[idx]\n",
    "        label = self.labels[idx]\n",
    "        image = Image.open(img_path).convert(\"RGB\")\n",
    "\n",
    "        if self.transform:\n",
    "            image = self.transform(image)\n",
    "\n",
    "        return image, label\n",
    "\n",
    "\n",
    "# Define transformations\n",
    "transform = transforms.Compose(\n",
    "    [\n",
    "        transforms.Resize((64, 64)),\n",
    "        transforms.ToTensor(),\n",
    "        transforms.Normalize([0.5], [0.5]),  # For GAN training\n",
    "    ]\n",
    ")\n",
    "\n",
    "\n",
    "mix_dir = os.path.join(\".\\chest_xray\", \"mix\")\n",
    "dataset = PneumoniaDataset(mix_dir, transform=transform)\n",
    "\n",
    "# Split into train and test sets\n",
    "train_size = int(0.8 * len(dataset))\n",
    "test_size = len(dataset) - train_size\n",
    "train_dataset, test_dataset = torch.utils.data.random_split(\n",
    "    dataset, [train_size, test_size]\n",
    ")\n",
    "\n",
    "train_loader = DataLoader(train_dataset, batch_size=64, shuffle=True)\n",
    "test_loader = DataLoader(test_dataset, batch_size=64, shuffle=False)"
   ]
  },
  {
   "cell_type": "markdown",
   "metadata": {},
   "source": [
    "### def GAN"
   ]
  },
  {
   "cell_type": "code",
   "execution_count": null,
   "metadata": {},
   "outputs": [],
   "source": [
    "class Generator(nn.Module):\n",
    "    def __init__(self, latent_dim, img_channels=3):\n",
    "        super(Generator, self).__init__()\n",
    "        self.model = nn.Sequential(\n",
    "            nn.Linear(latent_dim, 128),\n",
    "            nn.ReLU(),\n",
    "            nn.Linear(128, 256),\n",
    "            nn.ReLU(),\n",
    "            nn.Linear(256, 512),\n",
    "            nn.ReLU(),\n",
    "            nn.Linear(512, 64 * 64 * img_channels),\n",
    "            nn.Tanh(),\n",
    "        )\n",
    "\n",
    "    def forward(self, z):\n",
    "        img = self.model(z)\n",
    "        return img.view(img.size(0), 3, 64, 64)\n",
    "\n",
    "\n",
    "class Discriminator(nn.Module):\n",
    "    def __init__(self, img_channels=3):\n",
    "        super(Discriminator, self).__init__()\n",
    "        self.model = nn.Sequential(\n",
    "            nn.Flatten(),\n",
    "            nn.Linear(64 * 64 * img_channels, 512),\n",
    "            nn.LeakyReLU(0.2),\n",
    "            nn.Linear(512, 256),\n",
    "            nn.LeakyReLU(0.2),\n",
    "            nn.Linear(256, 1),\n",
    "            nn.Sigmoid(),\n",
    "        )\n",
    "\n",
    "    def forward(self, img):\n",
    "        return self.model(img)"
   ]
  },
  {
   "cell_type": "markdown",
   "metadata": {},
   "source": [
    "### Def classifier"
   ]
  },
  {
   "cell_type": "code",
   "execution_count": null,
   "metadata": {},
   "outputs": [],
   "source": [
    "class Classifier(nn.Module):\n",
    "    def __init__(self, num_classes=3):\n",
    "        super(Classifier, self).__init__()\n",
    "        self.model = nn.Sequential(\n",
    "            nn.Flatten(),\n",
    "            nn.Linear(64 * 64 * 3, 512),\n",
    "            nn.ReLU(),\n",
    "            nn.Linear(512, 256),\n",
    "            nn.ReLU(),\n",
    "            nn.Linear(256, num_classes),\n",
    "        )\n",
    "\n",
    "    def forward(self, img):\n",
    "        return self.model(img)"
   ]
  },
  {
   "cell_type": "markdown",
   "metadata": {},
   "source": [
    "### Train loop"
   ]
  },
  {
   "cell_type": "code",
   "execution_count": null,
   "metadata": {},
   "outputs": [
    {
     "name": "stdout",
     "output_type": "stream",
     "text": [
      "Epoch 1: D_loss: 0.058575116097927094, G_loss: 3.5434083938598633, C_loss: 0.5362995266914368\n",
      "Epoch 2: D_loss: 0.03386630117893219, G_loss: 5.063937187194824, C_loss: 0.49865350127220154\n",
      "Epoch 3: D_loss: 0.2359081506729126, G_loss: 2.8563642501831055, C_loss: 0.21310222148895264\n",
      "Epoch 4: D_loss: 0.20090684294700623, G_loss: 2.65976619720459, C_loss: 0.7900468707084656\n",
      "Epoch 5: D_loss: 0.17841628193855286, G_loss: 3.4075541496276855, C_loss: 0.47134900093078613\n",
      "Epoch 6: D_loss: 0.036194778978824615, G_loss: 5.457849502563477, C_loss: 0.2540764808654785\n",
      "Epoch 7: D_loss: 0.06985259801149368, G_loss: 4.9046125411987305, C_loss: 0.6293923258781433\n",
      "Epoch 8: D_loss: 0.1252201646566391, G_loss: 5.003284931182861, C_loss: 0.7093382477760315\n",
      "Epoch 9: D_loss: 0.3069184124469757, G_loss: 3.8124589920043945, C_loss: 0.420634388923645\n",
      "Epoch 10: D_loss: 0.01262829639017582, G_loss: 8.8043794631958, C_loss: 0.317884624004364\n",
      "Epoch 11: D_loss: 0.05137837678194046, G_loss: 8.813754081726074, C_loss: 0.47390446066856384\n",
      "Epoch 12: D_loss: 0.1748347133398056, G_loss: 5.438544273376465, C_loss: 0.1516977697610855\n",
      "Epoch 13: D_loss: 0.06428226828575134, G_loss: 8.558185577392578, C_loss: 0.37666478753089905\n",
      "Epoch 14: D_loss: 0.12654824554920197, G_loss: 5.088913917541504, C_loss: 0.4111309349536896\n",
      "Epoch 15: D_loss: 0.13749180734157562, G_loss: 5.549638271331787, C_loss: 0.2440754920244217\n",
      "Epoch 16: D_loss: 0.012958136387169361, G_loss: 6.553171157836914, C_loss: 0.2844431698322296\n",
      "Epoch 17: D_loss: 0.6099193096160889, G_loss: 4.437769412994385, C_loss: 0.359620600938797\n",
      "Epoch 18: D_loss: 0.001977859530597925, G_loss: 10.278857231140137, C_loss: 0.14578501880168915\n",
      "Epoch 19: D_loss: 0.28762686252593994, G_loss: 3.8626954555511475, C_loss: 0.2105853110551834\n",
      "Epoch 20: D_loss: 0.79886394739151, G_loss: 3.6379051208496094, C_loss: 0.6168434023857117\n",
      "Epoch 21: D_loss: 0.18416577577590942, G_loss: 4.615493297576904, C_loss: 0.1761544793844223\n",
      "Epoch 22: D_loss: 0.43005210161209106, G_loss: 3.9616575241088867, C_loss: 0.11507762223482132\n",
      "Epoch 23: D_loss: 0.0349857322871685, G_loss: 7.4626922607421875, C_loss: 0.056963834911584854\n",
      "Epoch 24: D_loss: 0.11430498212575912, G_loss: 8.905967712402344, C_loss: 0.16135649383068085\n",
      "Epoch 25: D_loss: 0.0017947341548278928, G_loss: 11.201835632324219, C_loss: 0.20528416335582733\n",
      "Epoch 26: D_loss: 1.3894472122192383, G_loss: 12.063957214355469, C_loss: 0.2406102865934372\n",
      "Epoch 27: D_loss: 0.030199959874153137, G_loss: 6.427711009979248, C_loss: 0.06919387727975845\n",
      "Epoch 28: D_loss: 0.001877384725958109, G_loss: 9.37095832824707, C_loss: 0.19877512753009796\n",
      "Epoch 29: D_loss: 0.06455862522125244, G_loss: 4.607844352722168, C_loss: 0.0819050595164299\n",
      "Epoch 30: D_loss: 0.21193429827690125, G_loss: 4.827863693237305, C_loss: 0.05009356141090393\n",
      "Epoch 31: D_loss: 0.08437643945217133, G_loss: 6.418527126312256, C_loss: 0.23724941909313202\n"
     ]
    }
   ],
   "source": [
    "device = torch.device(\"cuda\" if torch.cuda.is_available() else \"cpu\")\n",
    "\n",
    "# Initialize models\n",
    "latent_dim = 100\n",
    "generator = Generator(latent_dim).to(device)\n",
    "discriminator = Discriminator().to(device)\n",
    "classifier = Classifier().to(device)\n",
    "\n",
    "# Optimizers\n",
    "optimizer_G = optim.Adam(generator.parameters(), lr=0.0002)\n",
    "optimizer_D = optim.Adam(discriminator.parameters(), lr=0.0002)\n",
    "optimizer_C = optim.Adam(classifier.parameters(), lr=0.001)\n",
    "\n",
    "# Loss functions\n",
    "adversarial_loss = nn.BCELoss()\n",
    "classification_loss = nn.CrossEntropyLoss()\n",
    "\n",
    "for epoch in range(150):\n",
    "    for real_imgs, labels in train_loader:\n",
    "        real_imgs, labels = real_imgs.to(device), labels.to(device)\n",
    "\n",
    "        # --- Train Discriminator ---\n",
    "        z = torch.randn(real_imgs.size(0), latent_dim).to(device)\n",
    "        fake_imgs = generator(z)\n",
    "\n",
    "        real_validity = discriminator(real_imgs)\n",
    "        fake_validity = discriminator(fake_imgs.detach())\n",
    "        real_loss = adversarial_loss(real_validity, torch.ones_like(real_validity))\n",
    "        fake_loss = adversarial_loss(fake_validity, torch.zeros_like(fake_validity))\n",
    "        d_loss = (real_loss + fake_loss) / 2\n",
    "\n",
    "        optimizer_D.zero_grad()\n",
    "        d_loss.backward()\n",
    "        optimizer_D.step()\n",
    "\n",
    "        # --- Train Generator ---\n",
    "        fake_validity = discriminator(fake_imgs)\n",
    "        classification = classifier(fake_imgs)\n",
    "        g_loss = adversarial_loss(\n",
    "            fake_validity, torch.ones_like(fake_validity)\n",
    "        ) + classification_loss(classification, labels)\n",
    "\n",
    "        optimizer_G.zero_grad()\n",
    "        g_loss.backward()\n",
    "        optimizer_G.step()\n",
    "\n",
    "        # --- Train Classifier ---\n",
    "        real_classification = classifier(real_imgs)\n",
    "        c_loss_real = classification_loss(real_classification, labels)\n",
    "\n",
    "        optimizer_C.zero_grad()\n",
    "        c_loss_real.backward()\n",
    "        optimizer_C.step()\n",
    "\n",
    "    print(\n",
    "        f\"Epoch {epoch + 1}: D_loss: {d_loss.item()}, G_loss: {g_loss.item()}, C_loss: {c_loss_real.item()}\"\n",
    "    )"
   ]
  },
  {
   "cell_type": "markdown",
   "metadata": {},
   "source": [
    "### Evaluation"
   ]
  },
  {
   "cell_type": "code",
   "execution_count": null,
   "metadata": {},
   "outputs": [
    {
     "name": "stdout",
     "output_type": "stream",
     "text": [
      "Test Accuracy: 75.00%\n"
     ]
    }
   ],
   "source": [
    "# Evaluate classifier on test set\n",
    "classifier.eval()\n",
    "correct = 0\n",
    "total = 0\n",
    "with torch.no_grad():\n",
    "    for imgs, labels in test_loader:\n",
    "        imgs, labels = imgs.to(device), labels.to(device)\n",
    "        outputs = classifier(imgs)\n",
    "        _, predicted = torch.max(outputs, 1)\n",
    "        correct += (predicted == labels).sum().item()\n",
    "        total += labels.size(0)\n",
    "\n",
    "print(f\"Test Accuracy: {100 * correct / total:.2f}%\")"
   ]
  },
  {
   "cell_type": "markdown",
   "metadata": {},
   "source": [
    "### Confusion Matrix"
   ]
  },
  {
   "cell_type": "code",
   "execution_count": null,
   "metadata": {},
   "outputs": [
    {
     "data": {
      "image/png": "[encoded data removed]",
      "text/plain": [
       "<Figure size 800x600 with 2 Axes>"
      ]
     },
     "metadata": {},
     "output_type": "display_data"
    }
   ],
   "source": [
    "import numpy as np\n",
    "import seaborn as sns\n",
    "import matplotlib.pyplot as plt\n",
    "from sklearn.metrics import confusion_matrix, ConfusionMatrixDisplay\n",
    "\n",
    "# --- Step 1: Collect Predictions and Ground Truth ---\n",
    "\n",
    "y_true = []  # Ground truth labels\n",
    "y_pred = []  # Predicted labels\n",
    "\n",
    "# Switch classifier to evaluation mode\n",
    "classifier.eval()\n",
    "\n",
    "with torch.no_grad():\n",
    "    for imgs, labels in test_loader:\n",
    "        imgs, labels = imgs.to(device), labels.to(device)\n",
    "        outputs = classifier(imgs)\n",
    "        _, predicted = torch.max(outputs, 1)\n",
    "\n",
    "        y_true.extend(labels.cpu().numpy())\n",
    "        y_pred.extend(predicted.cpu().numpy())\n",
    "\n",
    "y_true = np.array(y_true)\n",
    "y_pred = np.array(y_pred)\n",
    "\n",
    "# --- Step 2: Compute Confusion Matrix ---\n",
    "class_names = [\"Bacteria\", \"Virus\", \"Normal\"]  # Class names\n",
    "cm = confusion_matrix(y_true, y_pred)\n",
    "\n",
    "# --- Step 3: Plot Confusion Matrix ---\n",
    "plt.figure(figsize=(8, 6))\n",
    "sns.heatmap(\n",
    "    cm,\n",
    "    annot=True,\n",
    "    fmt=\"d\",\n",
    "    cmap=\"Blues\",\n",
    "    xticklabels=class_names,\n",
    "    yticklabels=class_names,\n",
    ")\n",
    "plt.xlabel(\"Predicted\")\n",
    "plt.ylabel(\"Actual\")\n",
    "plt.title(\"Confusion Matrix\")\n",
    "plt.show()"
   ]
  }
 ],
 "metadata": {
  "kernelspec": {
   "display_name": "Python 3",
   "language": "python",
   "name": "python3"
  },
  "language_info": {
   "codemirror_mode": {
    "name": "ipython",
    "version": 3
   },
   "file_extension": ".py",
   "mimetype": "text/x-python",
   "name": "python",
   "nbconvert_exporter": "python",
   "pygments_lexer": "ipython3",
   "version": "3.10.11"
  }
 },
 "nbformat": 4,
 "nbformat_minor": 2
}
